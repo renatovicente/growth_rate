{
 "cells": [
  {
   "cell_type": "markdown",
   "metadata": {},
   "source": [
    "# Growth rates - World"
   ]
  },
  {
   "cell_type": "code",
   "execution_count": 21,
   "metadata": {},
   "outputs": [],
   "source": [
    "import numpy as np\n",
    "import pandas as pd\n",
    "import matplotlib.pyplot as plt\n",
    "import requests\n",
    "from matplotlib.dates import DateFormatter"
   ]
  },
  {
   "cell_type": "markdown",
   "metadata": {},
   "source": [
    "## Data\n",
    "\n",
    "### COVID-19 data\n",
    "\n",
    "Source: [Our World in Data](https://ourworldindata.org/coronavirus)\n",
    "\n",
    "Download updated data:"
   ]
  },
  {
   "cell_type": "code",
   "execution_count": 22,
   "metadata": {},
   "outputs": [],
   "source": [
    "#url = 'https://covid.ourworldindata.org/data/owid-covid-data.csv'\n",
    "#filename = 'data/world_' + url.split(\"/\")[-1]\n",
    "\n",
    "#with open(filename, \"wb\") as f:\n",
    "#    r = requests.get(url)\n",
    "#    f.write(r.content)"
   ]
  },
  {
   "cell_type": "markdown",
   "metadata": {},
   "source": [
    "Or load a local file until a specific date:"
   ]
  },
  {
   "cell_type": "code",
   "execution_count": 23,
   "metadata": {},
   "outputs": [],
   "source": [
    "filename = 'data/world_owid-covid-data_06_08.csv'"
   ]
  },
  {
   "cell_type": "code",
   "execution_count": 24,
   "metadata": {},
   "outputs": [
    {
     "output_type": "execute_result",
     "data": {
      "text/plain": "  iso_code continent     location        date  total_cases  new_cases  \\\n0      AFG      Asia  Afghanistan  2019-12-31            0          0   \n1      AFG      Asia  Afghanistan  2020-01-01            0          0   \n2      AFG      Asia  Afghanistan  2020-01-02            0          0   \n3      AFG      Asia  Afghanistan  2020-01-03            0          0   \n4      AFG      Asia  Afghanistan  2020-01-04            0          0   \n\n   total_deaths  new_deaths  total_cases_per_million  new_cases_per_million  \\\n0             0           0                      0.0                    0.0   \n1             0           0                      0.0                    0.0   \n2             0           0                      0.0                    0.0   \n3             0           0                      0.0                    0.0   \n4             0           0                      0.0                    0.0   \n\n   ...  aged_65_older  aged_70_older  gdp_per_capita  extreme_poverty  \\\n0  ...          2.581          1.337        1803.987              NaN   \n1  ...          2.581          1.337        1803.987              NaN   \n2  ...          2.581          1.337        1803.987              NaN   \n3  ...          2.581          1.337        1803.987              NaN   \n4  ...          2.581          1.337        1803.987              NaN   \n\n   cvd_death_rate  diabetes_prevalence  female_smokers  male_smokers  \\\n0         597.029                 9.59             NaN           NaN   \n1         597.029                 9.59             NaN           NaN   \n2         597.029                 9.59             NaN           NaN   \n3         597.029                 9.59             NaN           NaN   \n4         597.029                 9.59             NaN           NaN   \n\n  handwashing_facilities  hospital_beds_per_thousand  \n0                 37.746                         0.5  \n1                 37.746                         0.5  \n2                 37.746                         0.5  \n3                 37.746                         0.5  \n4                 37.746                         0.5  \n\n[5 rows x 33 columns]",
      "text/html": "<div>\n<style scoped>\n    .dataframe tbody tr th:only-of-type {\n        vertical-align: middle;\n    }\n\n    .dataframe tbody tr th {\n        vertical-align: top;\n    }\n\n    .dataframe thead th {\n        text-align: right;\n    }\n</style>\n<table border=\"1\" class=\"dataframe\">\n  <thead>\n    <tr style=\"text-align: right;\">\n      <th></th>\n      <th>iso_code</th>\n      <th>continent</th>\n      <th>location</th>\n      <th>date</th>\n      <th>total_cases</th>\n      <th>new_cases</th>\n      <th>total_deaths</th>\n      <th>new_deaths</th>\n      <th>total_cases_per_million</th>\n      <th>new_cases_per_million</th>\n      <th>...</th>\n      <th>aged_65_older</th>\n      <th>aged_70_older</th>\n      <th>gdp_per_capita</th>\n      <th>extreme_poverty</th>\n      <th>cvd_death_rate</th>\n      <th>diabetes_prevalence</th>\n      <th>female_smokers</th>\n      <th>male_smokers</th>\n      <th>handwashing_facilities</th>\n      <th>hospital_beds_per_thousand</th>\n    </tr>\n  </thead>\n  <tbody>\n    <tr>\n      <th>0</th>\n      <td>AFG</td>\n      <td>Asia</td>\n      <td>Afghanistan</td>\n      <td>2019-12-31</td>\n      <td>0</td>\n      <td>0</td>\n      <td>0</td>\n      <td>0</td>\n      <td>0.0</td>\n      <td>0.0</td>\n      <td>...</td>\n      <td>2.581</td>\n      <td>1.337</td>\n      <td>1803.987</td>\n      <td>NaN</td>\n      <td>597.029</td>\n      <td>9.59</td>\n      <td>NaN</td>\n      <td>NaN</td>\n      <td>37.746</td>\n      <td>0.5</td>\n    </tr>\n    <tr>\n      <th>1</th>\n      <td>AFG</td>\n      <td>Asia</td>\n      <td>Afghanistan</td>\n      <td>2020-01-01</td>\n      <td>0</td>\n      <td>0</td>\n      <td>0</td>\n      <td>0</td>\n      <td>0.0</td>\n      <td>0.0</td>\n      <td>...</td>\n      <td>2.581</td>\n      <td>1.337</td>\n      <td>1803.987</td>\n      <td>NaN</td>\n      <td>597.029</td>\n      <td>9.59</td>\n      <td>NaN</td>\n      <td>NaN</td>\n      <td>37.746</td>\n      <td>0.5</td>\n    </tr>\n    <tr>\n      <th>2</th>\n      <td>AFG</td>\n      <td>Asia</td>\n      <td>Afghanistan</td>\n      <td>2020-01-02</td>\n      <td>0</td>\n      <td>0</td>\n      <td>0</td>\n      <td>0</td>\n      <td>0.0</td>\n      <td>0.0</td>\n      <td>...</td>\n      <td>2.581</td>\n      <td>1.337</td>\n      <td>1803.987</td>\n      <td>NaN</td>\n      <td>597.029</td>\n      <td>9.59</td>\n      <td>NaN</td>\n      <td>NaN</td>\n      <td>37.746</td>\n      <td>0.5</td>\n    </tr>\n    <tr>\n      <th>3</th>\n      <td>AFG</td>\n      <td>Asia</td>\n      <td>Afghanistan</td>\n      <td>2020-01-03</td>\n      <td>0</td>\n      <td>0</td>\n      <td>0</td>\n      <td>0</td>\n      <td>0.0</td>\n      <td>0.0</td>\n      <td>...</td>\n      <td>2.581</td>\n      <td>1.337</td>\n      <td>1803.987</td>\n      <td>NaN</td>\n      <td>597.029</td>\n      <td>9.59</td>\n      <td>NaN</td>\n      <td>NaN</td>\n      <td>37.746</td>\n      <td>0.5</td>\n    </tr>\n    <tr>\n      <th>4</th>\n      <td>AFG</td>\n      <td>Asia</td>\n      <td>Afghanistan</td>\n      <td>2020-01-04</td>\n      <td>0</td>\n      <td>0</td>\n      <td>0</td>\n      <td>0</td>\n      <td>0.0</td>\n      <td>0.0</td>\n      <td>...</td>\n      <td>2.581</td>\n      <td>1.337</td>\n      <td>1803.987</td>\n      <td>NaN</td>\n      <td>597.029</td>\n      <td>9.59</td>\n      <td>NaN</td>\n      <td>NaN</td>\n      <td>37.746</td>\n      <td>0.5</td>\n    </tr>\n  </tbody>\n</table>\n<p>5 rows × 33 columns</p>\n</div>"
     },
     "metadata": {},
     "execution_count": 24
    }
   ],
   "source": [
    "df = pd.read_csv(filename)\n",
    "df.head()"
   ]
  },
  {
   "cell_type": "markdown",
   "metadata": {},
   "source": [
    "Growh rate raw calculation:"
   ]
  },
  {
   "cell_type": "code",
   "execution_count": 25,
   "metadata": {},
   "outputs": [],
   "source": [
    "def delta(df_conf):\n",
    "\n",
    "    list_ = []\n",
    "    list_.append(0)\n",
    "\n",
    "    for j in range(len(df_conf) - 1):\n",
    "\n",
    "        list_.append(df_conf[j+1] - df_conf[j])\n",
    "\n",
    "    return list_"
   ]
  },
  {
   "cell_type": "markdown",
   "metadata": {},
   "source": [
    "Select a list of countries:"
   ]
  },
  {
   "cell_type": "code",
   "execution_count": 29,
   "metadata": {},
   "outputs": [],
   "source": [
    "# All\n",
    "countries_ = df['location'].unique()\n",
    "\n",
    "# Specify\n",
    "#countries_ = np.array(['Brazil', 'Germany'])"
   ]
  },
  {
   "cell_type": "code",
   "execution_count": 30,
   "metadata": {},
   "outputs": [
    {
     "output_type": "stream",
     "name": "stdout",
     "text": "Afghanistan\nAlbania\nAlgeria\nAndorra\nAngola\nAnguilla\nAntigua and Barbuda\nArgentina\nArmenia\nAruba\nAustralia\nAustria\nAzerbaijan\nBahamas\nBahrain\nBangladesh\nBarbados\nBelarus\nBelgium\nBelize\nBenin\nBermuda\nBhutan\nBolivia\nBonaire Sint Eustatius and Saba\nBosnia and Herzegovina\nBotswana\nBrazil\nBritish Virgin Islands\nBrunei\nBulgaria\nBurkina Faso\nBurundi\nCambodia\nCameroon\nCanada\nCape Verde\nCayman Islands\nCentral African Republic\nChad\nChile\nChina\nColombia\nComoros\nCongo\nCosta Rica\nCote d'Ivoire\nCroatia\nCuba\nCuracao\nCyprus\nCzech Republic\nDemocratic Republic of Congo\nDenmark\nDjibouti\nDominica\nDominican Republic\nEcuador\nEgypt\nEl Salvador\nEquatorial Guinea\nEritrea\nEstonia\nEthiopia\nFaeroe Islands\nFalkland Islands\nFiji\nFinland\nFrance\nFrench Polynesia\nGabon\nGambia\nGeorgia\nGermany\nGhana\nGibraltar\nGreece\nGreenland\nGrenada\nGuam\nGuatemala\nGuernsey\nGuinea\nGuinea-Bissau\nGuyana\nHaiti\nHonduras\nHong Kong\nHungary\nIceland\nIndia\nIndonesia\nIran\nIraq\nIreland\nIsle of Man\nIsrael\nItaly\nJamaica\nJapan\nJersey\nJordan\nKazakhstan\nKenya\nKosovo\nKuwait\nKyrgyzstan\nLaos\nLatvia\nLebanon\nLesotho\nLiberia\nLibya\nLiechtenstein\nLithuania\nLuxembourg\nMacedonia\nMadagascar\nMalawi\nMalaysia\nMaldives\nMali\nMalta\nMauritania\nMauritius\nMexico\nMoldova\nMonaco\nMongolia\nMontenegro\nMontserrat\nMorocco\nMozambique\nMyanmar\nNamibia\nNepal\nNetherlands\nNew Caledonia\nNew Zealand\nNicaragua\nNiger\nNigeria\nNorthern Mariana Islands\nNorway\nOman\nPakistan\nPalestine\nPanama\nPapua New Guinea\nParaguay\nPeru\nPhilippines\nPoland\nPortugal\nPuerto Rico\nQatar\nRomania\nRussia\nRwanda\nSaint Kitts and Nevis\nSaint Lucia\nSaint Vincent and the Grenadines\nSan Marino\nSao Tome and Principe\nSaudi Arabia\nSenegal\nSerbia\nSeychelles\nSierra Leone\nSingapore\nSint Maarten (Dutch part)\nSlovakia\nSlovenia\nSomalia\nSouth Africa\nSouth Korea\nSouth Sudan\nSpain\nSri Lanka\nSudan\nSuriname\nSwaziland\nSweden\nSwitzerland\nSyria\nTaiwan\nTajikistan\nTanzania\nThailand\nTimor\nTogo\nTrinidad and Tobago\nTunisia\nTurkey\nTurks and Caicos Islands\nUganda\nUkraine\nUnited Arab Emirates\nUnited Kingdom\nUnited States\nUnited States Virgin Islands\nUruguay\nUzbekistan\nVatican\nVenezuela\nVietnam\nWestern Sahara\nYemen\nZambia\nZimbabwe\nWorld\nInternational\n"
    }
   ],
   "source": [
    "results_ = []\n",
    "\n",
    "### EWM\n",
    "alpha = 30.\n",
    "alpha2 = 7.\n",
    "alpha3 = 5.\n",
    "\n",
    "### Classification threshold\n",
    "# Cases\n",
    "CASES_threshold = 50\n",
    "# Normalized growth rate (%)\n",
    "GROWTH_RATE_threshold = 1\n",
    "# Normalized growth acceleration (%)\n",
    "GROWTH_ACCEL_threshold = 0.01\n",
    "\n",
    "### Last date into results_ list?\n",
    "last = True\n",
    "### If not, what date? (Do no forget to set last = False)\n",
    "#### CAREFUL: a location might not have data for this particular day (some places do not have records on sundays, for instance)\n",
    "#until_date = '2020-05-02'\n",
    "\n",
    "for coutries in countries_:\n",
    "\n",
    "    print(coutries)\n",
    "\n",
    "    df_ = df[ df['location'] == coutries].sort_values(by='date').set_index('date')\n",
    "    df_ =  df_ [ df_['total_cases']  > 0]\n",
    "    df_.index = pd.to_datetime(df_.index)\n",
    "\n",
    "    # Rate\n",
    "    df_['growth_rate_'] = delta(df_['total_cases'])\n",
    "\n",
    "    # Exponential weight\n",
    "    df_['growth_rate'] = df_['growth_rate_'].ewm(com= alpha).mean()\n",
    "\n",
    "    # Rate\n",
    "    df_['growth_accel_'] = delta(df_['growth_rate'])\n",
    "\n",
    "    # Exponential weight\n",
    "    df_['growth_accel'] = df_['growth_accel_'].ewm(com= alpha2).mean()\n",
    "\n",
    "    # Rate\n",
    "    df_['growth_accel_rate_'] = delta(df_['growth_accel'])\n",
    "\n",
    "    # Exponential weight\n",
    "    df_['growth_accel_rate'] = df_['growth_accel_rate_'].ewm(com= alpha3).mean()\n",
    "\n",
    "    # Dropping unsmoothed quantities\n",
    "    df_ = df_.drop('growth_rate_', axis=1)\n",
    "    df_ = df_.drop('growth_accel_', axis=1)\n",
    "    df_ = df_.drop('growth_accel_rate_', axis=1)\n",
    "\n",
    "    # Normalized quantities\n",
    "    df_['growth_rate_NORM_(%)'] = 100*df_['growth_rate'] / df_['total_cases']\n",
    "    df_['growth_accel_NORM_(%)'] = 100*df_['growth_accel'] / df_['total_cases']\n",
    "    df_['growth_accel_rate_NORM_(%)'] = 100*df_['growth_accel_rate'] / df_['total_cases']\n",
    "\n",
    "    # Classification\n",
    "\n",
    "    df_['LENTO'] =  (df_['total_cases'] < CASES_threshold)*1\n",
    "\n",
    "    df_['EXPONENCIAL'] = ( df_['growth_accel_NORM_(%)']  >= GROWTH_ACCEL_threshold )*1\n",
    "\n",
    "    df_['DESACELERACAO'] = ( df_['growth_accel_NORM_(%)']  <= -GROWTH_ACCEL_threshold )*1\n",
    "\n",
    "    df_['ESTAVEL'] = ( (df_['growth_rate_NORM_(%)']  <  GROWTH_RATE_threshold) &  (df_['growth_accel_NORM_(%)']  > - GROWTH_ACCEL_threshold) & (df_['growth_accel_NORM_(%)']  <         GROWTH_ACCEL_threshold) )*1\n",
    "\n",
    "    df_['LINEAR'] = ( (df_['growth_rate_NORM_(%)']  >=  GROWTH_RATE_threshold ) &  (df_['growth_accel_NORM_(%)']  > - GROWTH_ACCEL_threshold) & (df_['growth_accel_NORM_(%)']  < GROWTH_ACCEL_threshold) )*1\n",
    "\n",
    "\n",
    "    df_.loc[df_['LENTO'] == True, 'CLASSIFICACAO'] = 'LENTO'\n",
    "    df_.loc[ (df_['LENTO'] != True) & (df_['DESACELERACAO'] == True), 'CLASSIFICACAO'] = 'DESACELERACAO'\n",
    "    df_.loc[ (df_['LENTO'] != True) & (df_['ESTAVEL'] == True), 'CLASSIFICACAO'] = 'ESTAVEL'\n",
    "    df_.loc[ (df_['LENTO'] != True) & (df_['LINEAR'] == True), 'CLASSIFICACAO' ] = 'LINEAR'\n",
    "    df_.loc[ (df_['LENTO'] != True) & (df_['EXPONENCIAL'] == True), 'CLASSIFICACAO' ] = 'EXPONENCIAL'\n",
    "\n",
    "\n",
    "    # Plot\n",
    "    #fig, axes = plt.subplots(1, 4, figsize= (24, 4))\n",
    "    \n",
    "        \n",
    "    #axes[0].plot(df_['growth_rate'])\n",
    "    #axes[0].set_title(coutries, fontsize= 16)\n",
    "    #axes[0].set_ylabel('Daily New Cases', fontsize= 13)\n",
    "    #axes[0].set_xlabel('Date', fontsize= 13)\n",
    "    #axes[0].grid(linestyle=':')\n",
    "    #axes[0].legend()\n",
    "\n",
    "    #axes[1].plot(df_['growth_accel'], color= 'C3')\n",
    "    #axes[1].set_title(coutries, fontsize= 16)\n",
    "    #axes[1].set_ylabel('Growth acceleration', fontsize= 13)\n",
    "    #axes[1].set_xlabel('Date', fontsize= 13)\n",
    "    #axes[1].grid(linestyle=':')\n",
    "    #axes[1].legend()\n",
    "\n",
    "    #axes[2].plot(df_['growth_accel_rate'], color= 'C2')\n",
    "    #axes[2].set_title(coutries, fontsize= 16)\n",
    "    #axes[2].set_ylabel('Growth acceleration rate', fontsize= 13)\n",
    "    #axes[2].set_xlabel('Date', fontsize= 13)\n",
    "    #axes[2].grid(linestyle=':')\n",
    "    #axes[2].legend()\n",
    "\n",
    "    #axes[3].plot(df_[['total_cases']], 'o-', color= 'C1', label= 'Official data')\n",
    "    #axes[3].set_ylabel('Confirmed cases', fontsize= 12)\n",
    "    #axes[3].set_title(coutries, fontsize= 16)\n",
    "    #axes[3].set_xlabel('Date', fontsize= 13)\n",
    "    #axes[3].grid(linestyle=':')\n",
    "    #axes[3].legend()\n",
    "\n",
    "\n",
    "    #date_form = DateFormatter(\"%m/%d\")\n",
    "    #axes[0].xaxis.set_major_formatter(date_form)\n",
    "    #axes[1].xaxis.set_major_formatter(date_form)\n",
    "    #axes[2].xaxis.set_major_formatter(date_form)\n",
    "    #axes[3].xaxis.set_major_formatter(date_form)\n",
    "\n",
    "    df_ = df_.reset_index()\n",
    "\n",
    "\n",
    "    if last:\n",
    "        results_.append(df_.iloc[-1].to_dict())\n",
    "    else:\n",
    "        idx_ = df_.index[df_['date'] == until_date]\n",
    "        if len(idx_) > 0:\n",
    "            results_.append(df_.iloc[idx_[0]].to_dict())\n",
    "        else:\n",
    "            print('%s data NOT available for %s' % (until_date, countries))\n",
    "\n",
    "    #plt.savefig('file_name.png', bbox_inches='tight')\n",
    "    #plt.show()\n",
    "\n",
    "\n",
    "results = pd.DataFrame(results_)\n",
    "\n",
    "#results.to_csv('results/dfs/growth_world_class_.csv', index= True, sep= ';')"
   ]
  }
 ],
 "metadata": {
  "kernelspec": {
   "display_name": "Python 3",
   "language": "python",
   "name": "python3"
  },
  "language_info": {
   "codemirror_mode": {
    "name": "ipython",
    "version": 3
   },
   "file_extension": ".py",
   "mimetype": "text/x-python",
   "name": "python",
   "nbconvert_exporter": "python",
   "pygments_lexer": "ipython3",
   "version": "3.7.3-final"
  }
 },
 "nbformat": 4,
 "nbformat_minor": 2
}